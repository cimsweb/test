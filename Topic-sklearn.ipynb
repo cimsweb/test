{
 "cells": [
  {
   "cell_type": "code",
   "execution_count": 13,
   "metadata": {
    "collapsed": true
   },
   "outputs": [],
   "source": [
    "# -*- coding: utf-8 -*-\n",
    "# Author: Olivier Grisel <olivier.grisel@ensta.org>\n",
    "#         Lars Buitinck <L.J.Buitinck@uva.nl>\n",
    "#         Chyi-Kwei Yau <chyikwei.yau@gmail.com>\n",
    "# License: BSD 3 clause\n",
    "\n",
    "from __future__ import print_function\n",
    "from time import time\n",
    "\n",
    "from sklearn.feature_extraction.text import TfidfVectorizer, CountVectorizer\n",
    "from sklearn.decomposition import NMF, LatentDirichletAllocation\n",
    "from sklearn.datasets import fetch_20newsgroups\n",
    "\n",
    "import numpy as np\n",
    "import logging\n",
    "import pandas as pd"
   ]
  },
  {
   "cell_type": "code",
   "execution_count": 40,
   "metadata": {
    "collapsed": true
   },
   "outputs": [],
   "source": [
    "n_samples = 2000\n",
    "n_features = 1000\n",
    "n_topics = 100\n",
    "n_top_words = 5"
   ]
  },
  {
   "cell_type": "code",
   "execution_count": 41,
   "metadata": {
    "collapsed": true
   },
   "outputs": [],
   "source": [
    "def print_top_words(model, feature_names, n_top_words):\n",
    "    for topic_idx, topic in enumerate(model.components_):\n",
    "        print(\"Topic #%d:\" % topic_idx)\n",
    "        print(\" \".join([feature_names[i]\n",
    "                        for i in topic.argsort()[:-n_top_words - 1:-1]]))\n",
    "    print()"
   ]
  },
  {
   "cell_type": "code",
   "execution_count": 2,
   "metadata": {
    "collapsed": false
   },
   "outputs": [
    {
     "name": "stdout",
     "output_type": "stream",
     "text": [
      "Loading dataset...\n",
      "done in 2.022s.\n"
     ]
    }
   ],
   "source": [
    "# Load the 20 newsgroups dataset and vectorize it. We use a few heuristics\n",
    "# to filter out useless terms early on: the posts are stripped of headers,\n",
    "# footers and quoted replies, and common English words, words occurring in\n",
    "# only one document or in at least 95% of the documents are removed.\n",
    "\n",
    "print(\"Loading dataset...\")\n",
    "t0 = time()\n",
    "dataset = fetch_20newsgroups(shuffle=True, random_state=1,\n",
    "                             remove=('headers', 'footers', 'quotes'))\n",
    "data_samples = dataset.data\n",
    "print(\"done in %0.3fs.\" % (time() - t0))"
   ]
  },
  {
   "cell_type": "code",
   "execution_count": 11,
   "metadata": {
    "collapsed": false
   },
   "outputs": [
    {
     "name": "stdout",
     "output_type": "stream",
     "text": [
      "Notwithstanding all the legitimate fuss about this proposal, how much\n",
      "of a change is it?  ATT's last product in this area (a) was priced over\n",
      "$1000, as I suspect 'clipper' phones will be; (b) came to the customer \n",
      "with the key automatically preregistered with government authorities. Thus,\n",
      "aside from attempting to further legitimize and solidify the fed's posture,\n",
      "Clipper seems to be \"more of the same\", rather than a new direction.\n",
      "   Yes, technology will eventually drive the cost down and thereby promote\n",
      "more widespread use- but at present, the man on the street is not going\n",
      "to purchase a $1000 crypto telephone, especially when the guy on the other\n",
      "end probably doesn't have one anyway.  Am I missing something?\n",
      "   The real question is what the gov will do in a year or two when air-\n",
      "tight voice privacy on a phone line is as close as your nearest pc.  That\n",
      "has got to a problematic scenario for them, even if the extent of usage\n",
      "never surpasses the 'underground' stature of PGP.\n"
     ]
    }
   ],
   "source": [
    "print (data_samples[3])"
   ]
  },
  {
   "cell_type": "code",
   "execution_count": 30,
   "metadata": {
    "collapsed": true
   },
   "outputs": [],
   "source": [
    "stop_words = ['и', 'в', 'во', 'не', 'что', 'он', 'на', 'я', 'с', 'со', 'как', 'а', 'то', 'все', 'она', 'так', 'его', \\\n",
    "             'но', 'да', 'ты', 'к', 'у', 'же', 'вы', 'за', 'бы', 'по', 'только', 'ее', 'мне', 'было', 'вот', 'от', \\\n",
    "             'меня', 'еще', 'нет', 'о', 'из', 'ему', 'теперь', 'когда', 'даже', 'ну', 'вдруг', 'ли', 'если', 'уже', \\\n",
    "             'или', 'ни', 'быть', 'был', 'него', 'до', 'вас', 'нибудь', 'опять', 'уж', 'вам', 'ведь', 'там', 'потом', \\\n",
    "             'себя', 'ничего', 'ей', 'может', 'они', 'тут', 'где', 'есть', 'надо', 'ней', 'для', 'мы', 'тебя', 'их', \\\n",
    "             'чем', 'была', 'сам', 'чтоб', 'без', 'будто', 'чего', 'раз', 'тоже', 'себе', 'под', 'будет', 'ж', 'тогда', \\\n",
    "             'кто', 'этот', 'того', 'потому', 'этого', 'какой', 'совсем', 'ним', 'здесь', 'этом', 'один', 'почти', 'мой', \\\n",
    "             'тем', 'чтобы', 'нее', 'сейчас', 'были', 'куда', 'зачем', 'всех', 'никогда', 'можно', 'при', 'наконец', 'два', \\\n",
    "             'об', 'другой', 'хоть', 'после', 'над', 'больше', 'тот', 'через', 'эти', 'нас', 'про', 'всего', 'них', 'какая', \\\n",
    "             'много', 'разве', 'три', 'эту', 'моя', 'впрочем', 'хорошо', 'свою', 'этой', 'перед', 'иногда', 'лучше', 'чуть', \\\n",
    "             'том', 'нельзя', 'такой', 'им', 'более', 'всегда', 'конечно', 'всю', 'между', 'ру']"
   ]
  },
  {
   "cell_type": "code",
   "execution_count": 31,
   "metadata": {
    "collapsed": false
   },
   "outputs": [
    {
     "name": "stdout",
     "output_type": "stream",
     "text": [
      "Wall time: 34.7 s\n"
     ]
    }
   ],
   "source": [
    "%%time\n",
    "data=pd.read_csv('data-w2v/query-count-direct-2015-10.txt', sep='\\t', names=['query', 'wordstat', 'click'])\n",
    "data.dropna(subset=['query'], inplace=True)\n",
    "data.drop('click', axis=1, inplace=True)\n"
   ]
  },
  {
   "cell_type": "code",
   "execution_count": 51,
   "metadata": {
    "collapsed": false
   },
   "outputs": [
    {
     "name": "stdout",
     "output_type": "stream",
     "text": [
      "Wall time: 4 ms\n"
     ]
    }
   ],
   "source": [
    "%%time\n",
    "data1=data[:100000].copy()\n",
    "data_samples=data1['query'].tolist()"
   ]
  },
  {
   "cell_type": "code",
   "execution_count": 52,
   "metadata": {
    "collapsed": false
   },
   "outputs": [
    {
     "name": "stdout",
     "output_type": "stream",
     "text": [
      "сбербанк\n"
     ]
    }
   ],
   "source": [
    "print (data_samples[23])"
   ]
  },
  {
   "cell_type": "code",
   "execution_count": 53,
   "metadata": {
    "collapsed": false
   },
   "outputs": [
    {
     "name": "stdout",
     "output_type": "stream",
     "text": [
      "Extracting tf-idf features for NMF...\n",
      "done in 0.698s.\n"
     ]
    }
   ],
   "source": [
    "# Use tf-idf features for NMF.\n",
    "print(\"Extracting tf-idf features for NMF...\")\n",
    "tfidf_vectorizer = TfidfVectorizer(max_df=0.95, min_df=2, max_features=n_features,\n",
    "                                   stop_words=stop_words)\n",
    "t0 = time()\n",
    "tfidf = tfidf_vectorizer.fit_transform(data_samples)\n",
    "print(\"done in %0.3fs.\" % (time() - t0))\n"
   ]
  },
  {
   "cell_type": "code",
   "execution_count": 54,
   "metadata": {
    "collapsed": false
   },
   "outputs": [
    {
     "name": "stdout",
     "output_type": "stream",
     "text": [
      "Extracting tf features for LDA...\n",
      "done in 0.702s.\n"
     ]
    }
   ],
   "source": [
    "# Use tf (raw term count) features for LDA.\n",
    "print(\"Extracting tf features for LDA...\")\n",
    "tf_vectorizer = CountVectorizer(max_df=0.95, min_df=2, max_features=n_features,\n",
    "                                stop_words=stop_words)\n",
    "t0 = time()\n",
    "tf = tf_vectorizer.fit_transform(data_samples)\n",
    "print(\"done in %0.3fs.\" % (time() - t0))\n"
   ]
  },
  {
   "cell_type": "code",
   "execution_count": 55,
   "metadata": {
    "collapsed": false
   },
   "outputs": [
    {
     "name": "stdout",
     "output_type": "stream",
     "text": [
      "Fitting the NMF model with tf-idf features, n_samples=2000 and n_features=1000...\n",
      "done in 190.491s.\n"
     ]
    }
   ],
   "source": [
    "# Fit the NMF model\n",
    "print(\"Fitting the NMF model with tf-idf features, n_samples=%d and n_features=%d...\" % (n_samples, n_features))\n",
    "t0 = time()\n",
    "nmf = NMF(n_components=n_topics, random_state=1, alpha=.1, l1_ratio=.5).fit(tfidf)\n",
    "#exit()\n",
    "print(\"done in %0.3fs.\" % (time() - t0))"
   ]
  },
  {
   "cell_type": "code",
   "execution_count": 58,
   "metadata": {
    "collapsed": false
   },
   "outputs": [
    {
     "name": "stdout",
     "output_type": "stream",
     "text": [
      "\n",
      "Topics in NMF model:\n",
      "Topic #0:\n",
      "онлайн сбербанк читать бизнес табло\n",
      "Topic #1:\n",
      "сайт официальный санаторий знакомств фк\n",
      "Topic #2:\n",
      "ru http mail rambler mos\n",
      "Topic #3:\n",
      "погода дня неделю дней 14\n",
      "Topic #4:\n",
      "ру майл налог дром знакомства\n",
      "Topic #5:\n",
      "порно русское ролики hd зрелые\n",
      "Topic #6:\n",
      "на русском дня дону неделю\n",
      "Topic #7:\n",
      "новости последние украины украина слухи\n",
      "Topic #8:\n",
      "для детей девочек кухни дачи\n",
      "Topic #9:\n",
      "как приготовить сделать правильно капусту\n",
      "Topic #10:\n",
      "скачать торрент через музыку майнкрафт\n",
      "Topic #11:\n",
      "инструкция применению мазь форте таблетки\n",
      "Topic #12:\n",
      "магазин интернет детский одежды мир\n",
      "Topic #13:\n",
      "смотреть качестве хорошем онлайн 2013\n",
      "Topic #14:\n",
      "видео домашнее майнкрафт про частное\n",
      "Topic #15:\n",
      "фото девушек девушки женщин ню\n",
      "Topic #16:\n",
      "самара гис дубль шахматы валют\n",
      "Topic #17:\n",
      "авито область пробегом продажа квартиры\n",
      "Topic #18:\n",
      "купить квартиру магазине билет айфон\n",
      "Topic #19:\n",
      "com ua http vk русском\n",
      "Topic #20:\n",
      "из блюда поделки салат тыквы\n",
      "Topic #21:\n",
      "форум жк кубань парк дача\n",
      "Topic #22:\n",
      "работа без красноярск краснодар во\n",
      "Topic #23:\n",
      "игры девочек про канобу бесплатные\n",
      "Topic #24:\n",
      "www http youtube google yandex\n",
      "Topic #25:\n",
      "бесплатно хорошем качестве без регистрации\n",
      "Topic #26:\n",
      "2015 календарь года году день\n",
      "Topic #27:\n",
      "фильм любовь воин марсианин торрент\n",
      "Topic #28:\n",
      "банк кредит втб русский официальный\n",
      "Topic #29:\n",
      "слушать музыка фм музыку 80\n",
      "Topic #30:\n",
      "россии федерация день отслеживание мвд\n",
      "Topic #31:\n",
      "карта улицами номерами домов мира\n",
      "Topic #32:\n",
      "сериал паук метод турецкий измены\n",
      "Topic #33:\n",
      "секс со про знакомства русский\n",
      "Topic #34:\n",
      "дом слухи свежие серии последние\n",
      "Topic #35:\n",
      "отзывы об форте марсианин лада\n",
      "Topic #36:\n",
      "москве пробки где центр музей\n",
      "Topic #37:\n",
      "москва акции спартак фк динамо\n",
      "Topic #38:\n",
      "рф кодекс министерство правительства цб\n",
      "Topic #39:\n",
      "цена айфон лада пластиковые карты\n",
      "Topic #40:\n",
      "тв триколор каналы эфир прямой\n",
      "Topic #41:\n",
      "сегодня гороскоп телепрограмма праздник стоимость\n",
      "Topic #42:\n",
      "сезон кухня серия битва экстрасенсов\n",
      "Topic #43:\n",
      "нет да украины музыку гадание\n",
      "Topic #44:\n",
      "net http ua 24 video\n",
      "Topic #45:\n",
      "игра престолов шарики паук маджонг\n",
      "Topic #46:\n",
      "области московской арбитражный правительство администрация\n",
      "Topic #47:\n",
      "кабинет личный вход сбербанк мтс\n",
      "Topic #48:\n",
      "санкт петербург петербурге петербурга квартиру\n",
      "Topic #49:\n",
      "все серии подряд новые свинка\n",
      "Topic #50:\n",
      "что это такое делать за\n",
      "Topic #51:\n",
      "дней 10 14 на погода\n",
      "Topic #52:\n",
      "инстаграм ирина елена ольга наталья\n",
      "Topic #53:\n",
      "москвы эхо районный департамент города\n",
      "Topic #54:\n",
      "кино новинки русское эротика формула\n",
      "Topic #55:\n",
      "играть пасьянс шарики паук маджонг\n",
      "Topic #56:\n",
      "россия 24 прямой эфир телеканал\n",
      "Topic #57:\n",
      "театр официальный им большой пушкина\n",
      "Topic #58:\n",
      "фильмы про русские новинки лучшие\n",
      "Topic #59:\n",
      "рамблер знакомства сделать страница 100\n",
      "Topic #60:\n",
      "почта вход майл отслеживание моя\n",
      "Topic #61:\n",
      "каталог обувь товаров цены мебель\n",
      "Topic #62:\n",
      "ком чемпионат ньюс чат русском\n",
      "Topic #63:\n",
      "недвижимость сочи кемерово омск новосибирск\n",
      "Topic #64:\n",
      "авто пробегом продажа бу подержанных\n",
      "Topic #65:\n",
      "курс доллара рублю валют евро\n",
      "Topic #66:\n",
      "гисметео недели прогноз погоды ростов\n",
      "Topic #67:\n",
      "интернет магазине магазин обувь через\n",
      "Topic #68:\n",
      "радио фм русское дача шансон\n",
      "Topic #69:\n",
      "2014 году качестве хорошем футболу\n",
      "Topic #70:\n",
      "лечение симптомы причины детей рак\n",
      "Topic #71:\n",
      "по применению гдз футболу решебник\n",
      "Topic #72:\n",
      "контакте моя страница поиск вход\n",
      "Topic #73:\n",
      "расписание электричек вокзал шереметьево домодедово\n",
      "Topic #74:\n",
      "газета номер спорт свежий экспресс\n",
      "Topic #75:\n",
      "футбол спорт лига наш чемпионат\n",
      "Topic #76:\n",
      "проститутки до ростова екатеринбург новосибирск\n",
      "Topic #77:\n",
      "яндекс карты поисковая браузер переводчик\n",
      "Topic #78:\n",
      "суд районный арбитражный городской областной\n",
      "Topic #79:\n",
      "биография ирина сергей дмитрий лариса\n",
      "Topic #80:\n",
      "журнал электронный за женский читать\n",
      "Topic #81:\n",
      "клуб форд лада винкс знакомств\n",
      "Topic #82:\n",
      "программа передач русский нтв спорт\n",
      "Topic #83:\n",
      "спб квартиру метро тур центр\n",
      "Topic #84:\n",
      "tv 24 live tube ip\n",
      "Topic #85:\n",
      "канал первый прямой эфир украина\n",
      "Topic #86:\n",
      "вакансии свежие нижнем новые киров\n",
      "Topic #87:\n",
      "песни про детские русские все\n",
      "Topic #88:\n",
      "рецепты блюда приготовления домашних условиях\n",
      "Topic #89:\n",
      "от до таблетки сбербанка свечи\n",
      "Topic #90:\n",
      "нижний новгород великий школа хк\n",
      "Topic #91:\n",
      "жж блог эль да топ\n",
      "Topic #92:\n",
      "класс гдз языку решебник русскому\n",
      "Topic #93:\n",
      "online porno http sex xxx\n",
      "Topic #94:\n",
      "воронеж объявления спартак пробки фк\n",
      "Topic #95:\n",
      "рецепт приготовления салат суп торт\n",
      "Topic #96:\n",
      "голые девушки красивые зрелые женщины\n",
      "Topic #97:\n",
      "применению показания воды де форте\n",
      "Topic #98:\n",
      "2016 год гороскоп календарь новый\n",
      "Topic #99:\n",
      "дома под ключ один руками\n",
      "\n"
     ]
    }
   ],
   "source": [
    "##Шляпа какая то вызывает ошибку\n",
    "print(\"\\nTopics in NMF model:\")\n",
    "tfidf_feature_names = tfidf_vectorizer.get_feature_names()\n",
    "print_top_words(nmf, tfidf_feature_names, n_top_words)"
   ]
  },
  {
   "cell_type": "markdown",
   "metadata": {},
   "source": [
    "(n_topics=10, doc_topic_prior=None, topic_word_prior=None, learning_method='online', learning_decay=0.7, learning_offset=10.0, max_iter=10, batch_size=128, evaluate_every=-1, total_samples=1000000.0, perp_tol=0.1, mean_change_tol=0.001, max_doc_update_iter=100, n_jobs=1, verbose=0, random_state=None)[source]\n"
   ]
  },
  {
   "cell_type": "code",
   "execution_count": 56,
   "metadata": {
    "collapsed": false
   },
   "outputs": [
    {
     "name": "stdout",
     "output_type": "stream",
     "text": [
      "Fitting LDA models with tf features, n_samples=2000 and n_features=1000...\n",
      "done in 52.303s.\n"
     ]
    }
   ],
   "source": [
    "print(\"Fitting LDA models with tf features, n_samples=%d and n_features=%d...\"\n",
    "      % (n_samples, n_features))\n",
    "lda = LatentDirichletAllocation(n_topics=n_topics, max_iter=5,\n",
    "                                learning_method='online', learning_offset=50.,\n",
    "                                random_state=0, evaluate_every=10)\n",
    "t0 = time()\n",
    "lda.fit(tf)\n",
    "print(\"done in %0.3fs.\" % (time() - t0))"
   ]
  },
  {
   "cell_type": "code",
   "execution_count": 57,
   "metadata": {
    "collapsed": false
   },
   "outputs": [
    {
     "name": "stdout",
     "output_type": "stream",
     "text": [
      "\n",
      "Topics in LDA model:\n",
      "Topic #0:\n",
      "жизнь rambler чат тверь личная\n",
      "Topic #1:\n",
      "форум где санаторий серия слова\n",
      "Topic #2:\n",
      "ремонт лада фз of квартир\n",
      "Topic #3:\n",
      "новгород нижний сказки словарь великий\n",
      "Topic #4:\n",
      "порно фото русское porno hd\n",
      "Topic #5:\n",
      "акции гис юлия три дубль\n",
      "Topic #6:\n",
      "магазин интернет санкт петербург через\n",
      "Topic #7:\n",
      "ру википедия при стихи аптека\n",
      "Topic #8:\n",
      "авито самара краснодар казань омск\n",
      "Topic #9:\n",
      "валют курсы ню 12 банках\n",
      "Topic #10:\n",
      "центр голос между отопления эль\n",
      "Topic #11:\n",
      "по класс гдз футболу математике\n",
      "Topic #12:\n",
      "как любовь не приготовить сделать\n",
      "Topic #13:\n",
      "русский google переводчик язык английский\n",
      "Topic #14:\n",
      "воронеж новые своими руками во\n",
      "Topic #15:\n",
      "вести фм закон поликлиника марина\n",
      "Topic #16:\n",
      "симптомы обувь показания воды планета\n",
      "Topic #17:\n",
      "это воин рассказы эротические чудо\n",
      "Topic #18:\n",
      "карты яндекс деньги гта музыка\n",
      "Topic #19:\n",
      "игры школа бесплатные флеш канобу\n",
      "Topic #20:\n",
      "каталог екатеринбург товаров осаго мебели\n",
      "Topic #21:\n",
      "ком компания чемпионат линии андроид\n",
      "Topic #22:\n",
      "видео секс про нет эротика\n",
      "Topic #23:\n",
      "девушки тест красивые масло проект\n",
      "Topic #24:\n",
      "ru челябинск mos ee 80\n",
      "Topic #25:\n",
      "из условиях домашних блюда рук\n",
      "Topic #26:\n",
      "личный кабинет мтс мегафон теле2\n",
      "Topic #27:\n",
      "новая тюмень михаил универ тула\n",
      "Topic #28:\n",
      "погода работа москве вакансии ростове\n",
      "Topic #29:\n",
      "веб доктор пони ульяновск камеры\n",
      "Topic #30:\n",
      "клуб цены владимир сколько сп\n",
      "Topic #31:\n",
      "карта области банк суд москвы\n",
      "Topic #32:\n",
      "новости дня украина последние мира\n",
      "Topic #33:\n",
      "вход mail https почту почта\n",
      "Topic #34:\n",
      "смотреть онлайн бесплатно скачать фильм\n",
      "Topic #35:\n",
      "почта майл библиотека электронная ру\n",
      "Topic #36:\n",
      "песни org су инцест пирог\n",
      "Topic #37:\n",
      "русские лучшие de тур достопримечательности\n",
      "Topic #38:\n",
      "гисметео прогноз погоды городской духовке\n",
      "Topic #39:\n",
      "туры система осень оптом наталья\n",
      "Topic #40:\n",
      "топ 100 анастасия департамент правительства\n",
      "Topic #41:\n",
      "рф служба фонд правительство актер\n",
      "Topic #42:\n",
      "для картинки 2013 девочек взрослых\n",
      "Topic #43:\n",
      "курс доллара телеканал евро звезда\n",
      "Topic #44:\n",
      "знакомства рамблере su бани news\n",
      "Topic #45:\n",
      "контакте поиск гугл людей моя\n",
      "Topic #46:\n",
      "онлайн слушать радио россия канал\n",
      "Topic #47:\n",
      "2015 фильмы 2014 анна последний\n",
      "Topic #48:\n",
      "москва спартак динамо капитал фк\n",
      "Topic #49:\n",
      "дом все серии подряд мультфильм\n",
      "Topic #50:\n",
      "инструкция применению инстаграм до детские\n",
      "Topic #51:\n",
      "сезон битва 16 экстрасенсов 15\n",
      "Topic #52:\n",
      "салат мама 50 правила блог\n",
      "Topic #53:\n",
      "новый парк группа код иван\n",
      "Topic #54:\n",
      "расписание ольга электричек море вокзал\n",
      "Topic #55:\n",
      "кухни мария porn кодекс free\n",
      "Topic #56:\n",
      "день биография детей елена кинотеатр\n",
      "Topic #57:\n",
      "что такое время слово делать\n",
      "Topic #58:\n",
      "голые жж женщины пенза марсианин\n",
      "Topic #59:\n",
      "моя страница вк вконтакте белгород\n",
      "Topic #60:\n",
      "отзывы театр рецепты сергей об\n",
      "Topic #61:\n",
      "сочи недели одежда красноярск дмитрий\n",
      "Topic #62:\n",
      "журнал когда зиму виктория максим\n",
      "Topic #63:\n",
      "мир мой машины детский комедии\n",
      "Topic #64:\n",
      "мебель года история татьяна такси\n",
      "Topic #65:\n",
      "сегодня на тв программа 2016\n",
      "Topic #66:\n",
      "от спицами рейтинг tube причины\n",
      "Topic #67:\n",
      "com часы мужские vk плитка\n",
      "Topic #68:\n",
      "by анал павел киев твиттер\n",
      "Topic #69:\n",
      "году он новосибирск дни иркутск\n",
      "Topic #70:\n",
      "одноклассники алексей юрий таблетки ту\n",
      "Topic #71:\n",
      "за жк отдых домов образец\n",
      "Topic #72:\n",
      "24 русская втб билайн услуги\n",
      "Topic #73:\n",
      "ли можно подмосковье какие больница\n",
      "Topic #74:\n",
      "дома мультик женские дети торт\n",
      "Topic #75:\n",
      "купить квартиру решебник заказать рыбалка\n",
      "Topic #76:\n",
      "войны ментовские автомобиля шины екатерина\n",
      "Topic #77:\n",
      "сериал паук кухня пасьянс метод\n",
      "Topic #78:\n",
      "александр отель клипы хай приготовления\n",
      "Topic #79:\n",
      "лечение спб война музей недвижимости\n",
      "Topic #80:\n",
      "пластиковые кто камера ярославль человек\n",
      "Topic #81:\n",
      "авто продажа автомобилей пробегом подержанных\n",
      "Topic #82:\n",
      "спорт экспресс крови значение мастер\n",
      "Topic #83:\n",
      "область город майнкрафт рязань he\n",
      "Topic #84:\n",
      "online под свойства gjhyj полезные\n",
      "Topic #85:\n",
      "ирина евгений хабаровск молитва кристина\n",
      "Topic #86:\n",
      "tv днс уфа суп подслушано\n",
      "Topic #87:\n",
      "газета номер свежий ру авто\n",
      "Topic #88:\n",
      "www ru http лиц физических\n",
      "Topic #89:\n",
      "рецепт фильмов норма пенсии fyr\n",
      "Topic #90:\n",
      "аэропорт мазь kz жизни колеса\n",
      "Topic #91:\n",
      "измены гибдд узнать задолженность военные\n",
      "Topic #92:\n",
      "на цена дону русском год\n",
      "Topic #93:\n",
      "сайт официальный net фк билеты\n",
      "Topic #94:\n",
      "плюс прямой эфир нтв один\n",
      "Topic #95:\n",
      "сериалы квартиры какой дизайн российские\n",
      "Topic #96:\n",
      "недвижимость 18 регистрация авиакомпания айфон\n",
      "Topic #97:\n",
      "дней на 10 14 футбол\n",
      "Topic #98:\n",
      "рамблер рождения днем поздравления поздравление\n",
      "Topic #99:\n",
      "россии сбербанк бизнес отслеживание однажды\n",
      "\n"
     ]
    }
   ],
   "source": [
    "print(\"\\nTopics in LDA model:\")\n",
    "tf_feature_names = tf_vectorizer.get_feature_names()\n",
    "print_top_words(lda, tf_feature_names, n_top_words)"
   ]
  },
  {
   "cell_type": "code",
   "execution_count": 60,
   "metadata": {
    "collapsed": false
   },
   "outputs": [
    {
     "data": {
      "text/plain": [
       "-805628.87547947315"
      ]
     },
     "execution_count": 60,
     "metadata": {},
     "output_type": "execute_result"
    }
   ],
   "source": [
    "lda.score(tf)"
   ]
  },
  {
   "cell_type": "code",
   "execution_count": 59,
   "metadata": {
    "collapsed": false
   },
   "outputs": [
    {
     "data": {
      "text/plain": [
       "2552.0196848587475"
      ]
     },
     "execution_count": 59,
     "metadata": {},
     "output_type": "execute_result"
    }
   ],
   "source": [
    "lda.perplexity(tf, doc_topic_distr=None, sub_sampling=False)"
   ]
  },
  {
   "cell_type": "code",
   "execution_count": null,
   "metadata": {
    "collapsed": true
   },
   "outputs": [],
   "source": []
  }
 ],
 "metadata": {
  "kernelspec": {
   "display_name": "Python 2",
   "language": "python",
   "name": "python2"
  },
  "language_info": {
   "codemirror_mode": {
    "name": "ipython",
    "version": 2
   },
   "file_extension": ".py",
   "mimetype": "text/x-python",
   "name": "python",
   "nbconvert_exporter": "python",
   "pygments_lexer": "ipython2",
   "version": "2.7.11"
  }
 },
 "nbformat": 4,
 "nbformat_minor": 0
}
